{
 "cells": [
  {
   "cell_type": "markdown",
   "id": "26fd6f09",
   "metadata": {},
   "source": [
    "# Pre-lecture"
   ]
  },
  {
   "cell_type": "markdown",
   "id": "7e3b278b",
   "metadata": {},
   "source": [
    "# Question 1"
   ]
  },
  {
   "cell_type": "markdown",
   "id": "2ee3ed51",
   "metadata": {},
   "source": [
    "The **standard deviation** is a measure of the amount of variation of the values of a variable about its mean. The larger the standard deviation is, the greater variability or spread in the data there is. \n",
    "<br>\n",
    "<br> The **standard error of the mean** is the measure of the variablity of the sample mean if you were to repeatedly sample from the population. It captures the variation of the sample mean from the population mean. The standard erro of the mean decreases as the sample size increases because a larger sample can better estimate the population.\n",
    "<br>\n",
    "<br> **Differences:**\n",
    "- Mathematically, for a given sample size, the standard error of the mean equals the standard deviation divided by the square root of the sample size. SEM will always be smaller than or equal to SD for a given dataset, since SEM reduces as the sample size increases.\n",
    "- While the standard deviation describes the variration of the data points in the data itself, the standard error of the mean is a measure of the dispersion of sample means around the population mean. \n",
    "- Standard deviation is a property or descriptive statistics od the data, and standard error of the mean depends on both the standard deviation of the data and the sample size. "
   ]
  },
  {
   "cell_type": "markdown",
   "id": "4edc71a5",
   "metadata": {},
   "source": [
    "# Question 2"
   ]
  },
  {
   "cell_type": "markdown",
   "id": "385778c7",
   "metadata": {},
   "source": [
    "<br> A confidence interval is created by calculating upper and lower bounds or confidence limits (error bound mean). Effectively, confidence intervals are a point estimate +- margin of error. For an upper and lower confidence limimt to be calculated, one must choose the desired α-leval, sample size, sample mean, and standard deviation.\n",
    "<br>\n",
    "<br>**Steps to Create the Confidence Interval:**\n",
    "- Generate bootstrap samples from the original sample (by resampling with replacement). \n",
    "- Calculate the mean of bootstrap sample means\n",
    "- Find the Z-score for 95% confidence: 1.96 (95% of the values in a standard normal distribution lie within 1.96 standard deviations of the mean)\n",
    "- Compute the margin of error\n",
    "<br> Margin of Error=1.96×SEM bootstrap\n",
    "- Construct the confidence interval \n",
    "<br> Lower Bound=mean of bootstrap sample means−1.96×SEM bootstrap \n",
    "<br>Upper Bound=mean of bootstrap sample means+1.96×SEM bootstrap\n",
    " "
   ]
  },
  {
   "cell_type": "markdown",
   "id": "0ec5fac2",
   "metadata": {},
   "source": [
    "# Question 3"
   ]
  },
  {
   "cell_type": "markdown",
   "id": "c56a795c",
   "metadata": {},
   "source": [
    "**Steps:**\n",
    "- Generate bootstrap samples\n",
    "- Calculate the sample mean for each bootstrap sample\n",
    "- Sort the bootstrap means\n",
    "- Determine the percentiles (the 2.5th percentile and the 97.5th percentile of the sorted bootstrap sample means)\n",
    "- Create the confidence interval: \n",
    "The 95% bootstrapped confidence interval is simply the range between \n",
    "[2.5th percentile of bootstrap means,97.5th percentile of bootstrap means]"
   ]
  },
  {
   "cell_type": "markdown",
   "id": "bfea051e",
   "metadata": {},
   "source": [
    "**np.quantile is ideal for constructing bootstrapped confidence intervals because:**\n",
    "\n",
    "- It gives the exact quantiles you need without calculating the standard error or assuming a normal distribution.\n",
    "- If your bootstrapped sample means are not symmetrically distributed, np.quantile will still give you an accurate confidence interval.\n",
    "\n",
    "<br>\n",
    "<br> Example:"
   ]
  },
  {
   "cell_type": "code",
   "execution_count": 1,
   "id": "0e8eb0b5",
   "metadata": {},
   "outputs": [
    {
     "name": "stdout",
     "output_type": "stream",
     "text": [
      "95% confidence interval: [ 93.4625 104.62  ]\n"
     ]
    }
   ],
   "source": [
    "import numpy as np\n",
    "\n",
    "# Example of bootstrap sample means\n",
    "bootstrap_means = np.array([93.2, 94.7, 96.1, 98.5, 100.1, 102.4, 103.3, 104.9])\n",
    "\n",
    "# Calculate the 2.5th and 97.5th percentiles (for a 95% confidence interval)\n",
    "conf_interval = np.quantile(bootstrap_means, [0.025, 0.975])\n",
    "\n",
    "print(\"95% confidence interval:\", conf_interval)\n"
   ]
  },
  {
   "cell_type": "code",
   "execution_count": null,
   "id": "0f29157f",
   "metadata": {},
   "outputs": [],
   "source": []
  },
  {
   "cell_type": "markdown",
   "id": "41bc76de",
   "metadata": {},
   "source": [
    "### Q1, Q2, Q3 Chat session summary"
   ]
  },
  {
   "cell_type": "markdown",
   "id": "2e809dbe",
   "metadata": {},
   "source": [
    "Here’s a summary of our recent exchanges, formatted as a record of our discussions on statistical concepts, focusing on bootstrapping, confidence intervals, and key statistical functions:\n",
    "\n",
    "---\n",
    "\n",
    "### **Summary of Interactions:**\n",
    "\n",
    "#### 1. **Difference Between Standard Error of the Mean (SEM) and Standard Deviation:**\n",
    "   - We discussed that **standard deviation** measures the variability of individual data points around the mean of a dataset, while the **standard error of the mean (SEM)** measures the variability of sample means around the population mean. SEM is smaller than standard deviation because it decreases with larger sample sizes, reflecting the increased accuracy of the sample mean as an estimator of the population mean.\n",
    "\n",
    "#### 2. **Explanation of Standard Error of the Mean:**\n",
    "   - I clarified that the SEM represents how much the sample means deviate from the true population mean, providing insight into how reliable the sample mean is as an estimate of the population mean. We also discussed the connection between sample size and SEM: larger sample sizes lead to smaller SEMs, indicating more precision.\n",
    "\n",
    "#### 3. **Standard Deviation as a Descriptive Statistic:**\n",
    "   - We reviewed that **standard deviation** is a descriptive statistic because it summarizes the spread or variability in a dataset. It helps describe how much individual data points deviate from the mean, giving an understanding of the distribution of values within the data.\n",
    "\n",
    "#### 4. **Creating Confidence Intervals Using the SEM:**\n",
    "   - I walked you through the steps to calculate a confidence interval using the SEM. For a 95% confidence interval, we use the formula \\(\\bar{x} \\pm z \\cdot \\text{SEM}\\), where \\(z = 1.96\\) for a 95% confidence level. We discussed how to compute the SEM, the margin of error, and how to use these to determine the bounds of the confidence interval.\n",
    "\n",
    "#### 5. **Bootstrapped Confidence Interval Using SEM:**\n",
    "   - We explored how to create a 95% confidence interval from the distribution of bootstrapped sample means using the standard error of the bootstrapped means. The process involved calculating the SEM from the bootstrapped means and applying the formula \\(\\bar{x} \\pm z \\cdot \\text{SEM}\\) to find the interval.\n",
    "\n",
    "#### 6. **Bootstrapped Confidence Interval Using the Percentile Method:**\n",
    "   - Alternatively, we reviewed the **percentile method** for constructing a 95% bootstrapped confidence interval without using the standard deviation. This method involves:\n",
    "     1. Generating a large number of bootstrap samples.\n",
    "     2. Sorting the bootstrapped sample means.\n",
    "     3. Finding the 2.5th and 97.5th percentiles of the sorted bootstrap means.\n",
    "     4. Using these percentiles as the lower and upper bounds of the 95% confidence interval.\n",
    "   - This method is non-parametric and doesn’t require the assumption of normality.\n",
    "\n",
    "#### 7. **Explanation of `np.quantile` and Its Use in Bootstrapping:**\n",
    "   - We discussed how **`np.quantile`** in NumPy can be used to calculate quantiles from a dataset, making it ideal for finding the 2.5th and 97.5th percentiles of the bootstrapped sample means to create a confidence interval. The function is efficient and well-suited for bootstrapping since it directly computes the quantiles without requiring additional calculations like standard deviation or SEM.\n",
    "\n",
    "---\n",
    "\n",
    "This summary covers the key concepts we discussed regarding confidence intervals, standard error, bootstrapping methods, and statistical functions in NumPy.\n",
    "\n",
    "Let me know if you'd like me to format or adjust this further!"
   ]
  },
  {
   "cell_type": "markdown",
   "id": "af9a2106",
   "metadata": {},
   "source": [
    "### Link"
   ]
  },
  {
   "cell_type": "markdown",
   "id": "9d1c715c",
   "metadata": {},
   "source": [
    "https://chatgpt.com/share/66f9b5f5-e208-8010-859e-bcf1779e7f5d"
   ]
  },
  {
   "cell_type": "code",
   "execution_count": null,
   "id": "c1b97533",
   "metadata": {},
   "outputs": [],
   "source": []
  },
  {
   "cell_type": "markdown",
   "id": "7c6c6a78",
   "metadata": {},
   "source": [
    "# Question 4"
   ]
  },
  {
   "cell_type": "code",
   "execution_count": 2,
   "id": "6ef64d91",
   "metadata": {},
   "outputs": [
    {
     "name": "stdout",
     "output_type": "stream",
     "text": [
      "Original Sample Mean: 48.96153482605907\n",
      "95% Bootstrap Confidence Interval for Mean: (47.276635751407504, 50.62851486440195)\n"
     ]
    }
   ],
   "source": [
    "import numpy as np\n",
    "\n",
    "# Step 1: Create a random sample\n",
    "np.random.seed(42)  \n",
    "# Random number generator\n",
    "# seed is the initial input, to ensure consistency\n",
    "# For reproducibility\n",
    "sample = np.random.normal(loc=50, scale=10, size=100)  \n",
    "# np.random.normal generates random data from the normal distribution\n",
    "# loc=50 sets the mean(or location) of the normal distribution to 50\n",
    "# scale = 10 sets the standard deviation of the distribution to 10\n",
    "# size = 100 means that we have 100 data points\n",
    "\n",
    "\n",
    "# Step 2: Bootstrap sampling and confidence interval\n",
    "n_iterations = 1000  # Number of bootstrap samples\n",
    "bootstrap_means = []\n",
    "# bootstrap_medians = []\n",
    "\n",
    "for _ in range(n_iterations):\n",
    "    bootstrap_sample = np.random.choice(sample, size=len(sample), replace=True)\n",
    "    bootstrap_means.append(np.mean(bootstrap_sample))\n",
    "    # bootstrap_medians.append(np.median(bootstrap_sample))\n",
    "\n",
    "# Changes:\n",
    "# 1. Store bootstrap_medians instead of storing bootstrap_means.\n",
    "# 2. Replace np.mean() with np.median().\n",
    "# The general structure of the bootstrapping process remains the same; we’re just changing the statistic being computed from mean to median.\n",
    "    \n",
    "# Step 3: Calculate the 95% confidence interval\n",
    "lower_bound = np.percentile(bootstrap_means, 2.5)\n",
    "# The value at the 2.5th percentile of the bootstrap means\n",
    "# lower_bound = np.percentile(bootstrap_medians, 2.5)\n",
    "\n",
    "\n",
    "upper_bound = np.percentile(bootstrap_means, 97.5)\n",
    "# The value at the 97.5th percentile of the bootstrap means\n",
    "# upper_bound = np.percentile(bootstrap_medians, 97.5)\n",
    "\n",
    "\n",
    "\n",
    "# Results\n",
    "mean_original = np.mean(sample)\n",
    "# median_original = np.median(sample)\n",
    "confidence_interval = (lower_bound, upper_bound)\n",
    "# Statistically, when we talk about confidence intervals, the bounds are generally considered inclusive. \n",
    "\n",
    "print(f\"Original Sample Mean: {mean_original}\")\n",
    "print(f\"95% Bootstrap Confidence Interval for Mean: {confidence_interval}\")\n",
    "# print(f\"Original Sample Median: {median_original}\")\n",
    "# print(f\"95% Bootstrap Confidence Interval for Median: {confidence_interval}\")"
   ]
  },
  {
   "cell_type": "markdown",
   "id": "78aa9465",
   "metadata": {},
   "source": [
    "The updated code to compute a 95% bootstrap confidence interval for the population median:"
   ]
  },
  {
   "cell_type": "code",
   "execution_count": 3,
   "id": "4d1bef41",
   "metadata": {},
   "outputs": [
    {
     "name": "stdout",
     "output_type": "stream",
     "text": [
      "Original Sample Median: 48.73043708220287\n",
      "95% Bootstrap Confidence Interval for Median: (46.94841964279748, 51.34222915269005)\n"
     ]
    }
   ],
   "source": [
    "import numpy as np\n",
    "\n",
    "# Step 1: Create a random sample\n",
    "np.random.seed(42)  # For reproducibility\n",
    "sample = np.random.normal(loc=50, scale=10, size=100)  # A sample from a normal distribution\n",
    "\n",
    "# Step 2: Bootstrap sampling and confidence interval\n",
    "n_iterations = 1000  # Number of bootstrap samples\n",
    "bootstrap_medians = []\n",
    "\n",
    "for _ in range(n_iterations):\n",
    "    bootstrap_sample = np.random.choice(sample, size=len(sample), replace=True)\n",
    "    bootstrap_medians.append(np.median(bootstrap_sample))  # Calculate the median instead of the mean\n",
    "\n",
    "# Step 3: Calculate the 95% confidence interval for the median\n",
    "lower_bound = np.percentile(bootstrap_medians, 2.5)\n",
    "upper_bound = np.percentile(bootstrap_medians, 97.5)\n",
    "\n",
    "# Results\n",
    "median_original = np.median(sample)  # Calculate the original sample median\n",
    "confidence_interval = (lower_bound, upper_bound)\n",
    "\n",
    "print(f\"Original Sample Median: {median_original}\")\n",
    "print(f\"95% Bootstrap Confidence Interval for Median: {confidence_interval}\")\n"
   ]
  },
  {
   "cell_type": "markdown",
   "id": "0b349485",
   "metadata": {},
   "source": [
    "## Summary: "
   ]
  },
  {
   "cell_type": "markdown",
   "id": "c589979a",
   "metadata": {},
   "source": [
    "Here's a summary of our exchanges related to bootstrapping and statistical concepts:\n",
    "\n",
    "---\n",
    "\n",
    "### Summary of Exchanges:\n",
    "\n",
    "1. **Bootstrapping and Confidence Intervals**:\n",
    "   - Discussed the process of generating a 95% bootstrap confidence interval for a population mean using Python code. The bootstrap process involved generating multiple resamples from an original sample to estimate the variability of the sample statistic.\n",
    "   - Clarified that `n_iterations = 1000` specifies the number of bootstrapped datasets to be created, while each bootstrapped sample maintains the same size as the original dataset.\n",
    "\n",
    "2. **Understanding Normal Distribution**:\n",
    "   - Explained the characteristics of a normal distribution, including its symmetry, the relationship between the mean, median, and mode, and the concept of the 68-95-99.7 rule.\n",
    "   - Introduced other common probability distributions, including uniform, binomial, Poisson, exponential, gamma, beta, chi-square, Student’s t, log-normal, and Bernoulli distributions, along with their definitions and use cases.\n",
    "\n",
    "3. **Confidence Interval Bounds**:\n",
    "   - Explained the rationale behind using the 2.5th and 97.5th percentiles to define the bounds for a 95% confidence interval, emphasizing the allocation of the remaining area (5%) equally to the tails of the distribution.\n",
    "\n",
    "4. **Modifying Code for Different Population Parameters**:\n",
    "   - Provided a modified version of the bootstrapping code to calculate a 95% confidence interval for the population median instead of the mean. This involved changing the statistic calculated from mean to median.\n",
    "\n",
    "---\n",
    "\n",
    "Feel free to modify or add any additional details as needed for your homework assignment! Let me know if you need any more assistance or information."
   ]
  },
  {
   "cell_type": "markdown",
   "id": "932d4325",
   "metadata": {},
   "source": [
    "## Link: "
   ]
  },
  {
   "cell_type": "markdown",
   "id": "157b2ef9",
   "metadata": {},
   "source": [
    "https://chatgpt.com/share/66f9ebc3-5328-8010-a008-b7cb6bf1b5ec"
   ]
  },
  {
   "cell_type": "code",
   "execution_count": null,
   "id": "895f108e",
   "metadata": {},
   "outputs": [],
   "source": []
  },
  {
   "cell_type": "markdown",
   "id": "5adcc211",
   "metadata": {},
   "source": [
    "# Post lecture"
   ]
  },
  {
   "cell_type": "markdown",
   "id": "1f9c6d45",
   "metadata": {},
   "source": [
    "# Question 5"
   ]
  },
  {
   "cell_type": "markdown",
   "id": "6188d35a",
   "metadata": {},
   "source": [
    "**Population Parameter:** population parameter describes the characteristic of the entire population. Common examples include the population mean, population proportion, population variance, and population standard deviation. Population parameters are fixed but usually unknown because it's often impractical or impossible to measure every individual in a population."
   ]
  },
  {
   "cell_type": "markdown",
   "id": "015c4ac2",
   "metadata": {},
   "source": [
    "**Sample Statistics:** the sample statistic is calculated from a sample drawn from the population.Examples include the sample mean, sample proportion, sample variance, and sample standard deviation. Sample statistics can vary from one sample to another due to sampling variability."
   ]
  },
  {
   "cell_type": "markdown",
   "id": "91124721",
   "metadata": {},
   "source": [
    "**When it comes to confidence intervals:** Confidence intervals are constructed around sample statistics to estimate population parameters. The sample statistic may not exactly equal to the population parameters because it is an estimate. The purpose of a confidence interval is to quantify the uncertainty around the estimate of a population parameter. A confidence interval provides a range of values within which we can be reasonably sure the population parameter lies, based on the sample statistic and its variability."
   ]
  },
  {
   "cell_type": "markdown",
   "id": "6c83cdc3",
   "metadata": {},
   "source": [
    "## Summary:"
   ]
  },
  {
   "cell_type": "markdown",
   "id": "00d98b87",
   "metadata": {},
   "source": [
    "Here’s a summary of our exchanges that you can submit as part of your homework:\n",
    "\n",
    "---\n",
    "\n",
    "**Summary of Interaction:**\n",
    "\n",
    "1. **Distinguishing Population Parameters and Sample Statistics in Confidence Intervals**:\n",
    "   - **Key Concept**: We discussed the need to distinguish between population parameters and sample statistics when constructing confidence intervals.\n",
    "   - **Reasoning**: The population parameter represents a fixed but unknown characteristic of the entire population (e.g., population mean \\(\\mu\\)), while the sample statistic is calculated from the sample data (e.g., sample mean \\(\\bar{x}\\)) and serves as an estimate. The variability of the sample statistic due to sampling is key to understanding the uncertainty in estimating the population parameter. Confidence intervals provide a range that likely contains the true population parameter, quantifying the uncertainty around the sample statistic.\n",
    "\n",
    "2. **Nature and Relative Roles of Population Parameters and Sample Statistics**:\n",
    "   - **Population Parameters**: These are fixed values that describe an entire population but are often unknown. They serve as benchmarks for statistical estimation and are the targets of statistical inference.\n",
    "   - **Sample Statistics**: These are values computed from sample data and are used to estimate the unknown population parameters. They are subject to variability due to sampling differences.\n",
    "   - **Role of Sample Statistics**: They provide the basis for making inferences about population parameters, allowing us to calculate confidence intervals and perform hypothesis testing.\n",
    "   - **Interplay**: Population parameters are the true values researchers aim to estimate, while sample statistics provide the estimates that allow for this inference. Understanding their relationship is crucial for accurate statistical analysis.\n",
    "\n",
    "---\n",
    "\n",
    "This should cover the key concepts we discussed and provide a concise summary of the interaction!"
   ]
  },
  {
   "cell_type": "markdown",
   "id": "b64f379d",
   "metadata": {},
   "source": [
    "## Link:"
   ]
  },
  {
   "cell_type": "markdown",
   "id": "dbf64a5d",
   "metadata": {},
   "source": [
    "https://chatgpt.com/share/66faa9f5-aff8-8010-9582-9db295095a06"
   ]
  },
  {
   "cell_type": "code",
   "execution_count": null,
   "id": "30aab580",
   "metadata": {},
   "outputs": [],
   "source": []
  },
  {
   "cell_type": "markdown",
   "id": "66633f5d",
   "metadata": {},
   "source": [
    "# Question 6.1"
   ]
  },
  {
   "cell_type": "markdown",
   "id": "1f323567",
   "metadata": {},
   "source": [
    "Bootstrapping is a method that can be especially helpful when we want to understand what the bigger population might look like when you have a small sample. The general process of bootstrapping is that we repeatly take samples from the sample itself. We pull out randam data points with replacement, which means that after we take one data point from the data, we put it back in and can choose it again. We doing it over and over again to create lots of new samples that are slightly different from each other. These new samples all have the same number of data points with our original sample. Then, for each of the new samples, we can calculate the statistic we're interested in--like the average. These statistics can efficiently help us to estimate the population parameter."
   ]
  },
  {
   "cell_type": "markdown",
   "id": "30274b76",
   "metadata": {},
   "source": [
    "# Question 6.2"
   ]
  },
  {
   "cell_type": "markdown",
   "id": "99d5c852",
   "metadata": {},
   "source": [
    "Bootstrapping allows for the estimation of standard errors, the construction of confidence intervals, and to perform hypothesis testing. In other words, bootstrapping gives us an idea of how much our sample-based estimate might vary if we took different samples from the population. It estimate the uncertainty around a statistic--like the average or median--without needing to rely on complicated math formulas or make too many assumptions about the population. "
   ]
  },
  {
   "cell_type": "markdown",
   "id": "076264f1",
   "metadata": {},
   "source": [
    "# Question 6.3"
   ]
  },
  {
   "cell_type": "markdown",
   "id": "98866fac",
   "metadata": {},
   "source": [
    "To rephrase the question, we can say that we have hypothesis that the average of some population is 50. But what we got is only a sample of size n, and we're wondering if 50 is a resonable guess based on the sample.\n",
    "<br>We can start by generating bootstrap samples following the steps described in the answer to Question 6.1. From our original sample of size n, we repeatedly draw randam data points with replacement to create lots of new samples. We calculate the average of each one of the new samples. After that, we can look at the distribution of these averages. If these averages mostly hang around 50, then our hypothesized guess could be plausible. But if 50 looks way outside the typical range of our bootstrapped averages, that could mean our guess isn’t quite right.\n"
   ]
  },
  {
   "cell_type": "markdown",
   "id": "c1d4acd2",
   "metadata": {},
   "source": [
    "## Summary"
   ]
  },
  {
   "cell_type": "markdown",
   "id": "e38ef4f2",
   "metadata": {},
   "source": [
    "Here’s a summary of our exchanges on the topic of bootstrapping and hypothesis testing:\n",
    "\n",
    "---\n",
    "\n",
    "### 1. **What is Bootstrapping?**\n",
    "   - Bootstrapping is a resampling method used to estimate the distribution of a statistic by sampling with replacement from the original dataset. It allows the estimation of variability (like standard errors or confidence intervals) when the underlying distribution is unknown or when the sample size is small.\n",
    "   - The process involves:\n",
    "     1. Drawing multiple bootstrap samples (with replacement) from the original sample.\n",
    "     2. Calculating the statistic of interest for each bootstrap sample.\n",
    "     3. Repeating this many times to generate a bootstrap distribution.\n",
    "     4. Using the distribution to estimate confidence intervals, standard errors, or perform hypothesis testing.\n",
    "\n",
    "### 2. **Main Purpose of Bootstrapping**\n",
    "   - The main purpose of bootstrapping is to estimate the sampling distribution of a statistic without making strong parametric assumptions about the population. It helps to:\n",
    "     - Estimate standard errors.\n",
    "     - Construct confidence intervals.\n",
    "     - Perform hypothesis testing.\n",
    "     - Validate models in predictive contexts.\n",
    "     - Handle small sample sizes where traditional methods may be unreliable.\n",
    "\n",
    "### 3. **Using Bootstrapping to Test a Hypothesis about the Population Mean**\n",
    "   - If you have a hypothesized population mean and a sample, bootstrapping can help assess whether your hypothesis is plausible:\n",
    "     1. Generate bootstrap samples from the original sample.\n",
    "     2. Calculate the sample mean for each bootstrap sample.\n",
    "     3. Construct a confidence interval for the mean from the bootstrap distribution.\n",
    "     4. Check if the hypothesized mean falls within this interval.\n",
    "   - If the hypothesized mean is within the confidence interval, it's considered plausible. If not, the data suggests the hypothesized mean might not be valid.\n",
    "\n",
    "---\n",
    "\n",
    "This summary captures the key points discussed, including the definitions, purpose, and application of bootstrapping to hypothesis testing."
   ]
  },
  {
   "cell_type": "markdown",
   "id": "796e73d5",
   "metadata": {},
   "source": [
    "## Link"
   ]
  },
  {
   "cell_type": "markdown",
   "id": "67d50f4a",
   "metadata": {},
   "source": [
    "https://chatgpt.com/share/66facec8-9258-8010-870f-2c519b98191c"
   ]
  },
  {
   "cell_type": "code",
   "execution_count": null,
   "id": "8b9efd8e",
   "metadata": {},
   "outputs": [],
   "source": []
  },
  {
   "cell_type": "markdown",
   "id": "1094b9ad",
   "metadata": {},
   "source": [
    "# Question 7"
   ]
  },
  {
   "cell_type": "markdown",
   "id": "dfa2ea85",
   "metadata": {},
   "source": [
    "The confidence interval is bounded by mean of bootstrap sample means +- margin of error instead of a single data point of the mean of bootstrap sample means. When determining whether to reject the null hypothesis, we are using the confidence interval to estimate rather than the observed sample mean statistic. \n",
    "<br> The null hypothesis (e.g., 𝐻0: 𝜇=0) claims that the true population parameter is zero. A confidence interval provides a range of plausible values for the parameter based on the sample data. If zero is within this range, the data are consistent with the null hypothesis, meaning the sample does not provide strong evidence to contradict it.\n",
    "<br>Even if the sample mean is not zero, if the confidence interval includes zero, there’s a chance the true population mean could still be zero. Therefore, the data do not offer enough evidence to definitively reject 𝐻0.\n",
    "<br>To reject the null hypothesis, the confidence interval must not include zero. This means the entire range of plausible values for the parameter lies either entirely above or below zero, indicating that the true population parameter is likely different from zero. This would provide strong evidence against the null hypothesis, leading you to reject it."
   ]
  },
  {
   "cell_type": "markdown",
   "id": "425bcedd",
   "metadata": {},
   "source": [
    "# Question 8"
   ]
  },
  {
   "cell_type": "markdown",
   "id": "2cc7b909",
   "metadata": {},
   "source": [
    "Problem introduction: The goal is to determine whether the AliTech vaccine has a statistically significant effect on patient health scores. The null hypothesis is that the vaccine has no effect on patients' health scores, meaning the differences between the initial and final health scores are due to random variation. The alternative hypothesis is that the vaccine has a positive or negative effect on patients' health."
   ]
  },
  {
   "cell_type": "markdown",
   "id": "a90f8d7f",
   "metadata": {},
   "source": [
    "Quantitative analysis and data visualization: "
   ]
  },
  {
   "cell_type": "code",
   "execution_count": 4,
   "id": "630685ca",
   "metadata": {},
   "outputs": [
    {
     "data": {
      "image/png": "[encoded data removed]",
      "text/plain": [
       "<Figure size 1000x600 with 1 Axes>"
      ]
     },
     "metadata": {},
     "output_type": "display_data"
    },
    {
     "name": "stdout",
     "output_type": "stream",
     "text": [
      "95% confidence interval: [0.7 5.5]\n",
      "P-value: 0.02921052381549256\n"
     ]
    }
   ],
   "source": [
    "import numpy as np\n",
    "import pandas as pd\n",
    "import matplotlib.pyplot as plt\n",
    "import seaborn as sns\n",
    "\n",
    "# Create the DataFrame\n",
    "data = {\n",
    "    'PatientID': [1, 2, 3, 4, 5, 6, 7, 8, 9, 10],\n",
    "    'Age': [45, 34, 29, 52, 37, 41, 33, 48, 26, 39],\n",
    "    'Gender': ['M', 'F', 'M', 'F', 'M', 'F', 'M', 'F', 'M', 'F'],\n",
    "    'InitialHealthScore': [84, 78, 83, 81, 81, 80, 79, 85, 76, 83],\n",
    "    'FinalHealthScore': [86, 86, 80, 86, 84, 86, 86, 82, 83, 84]\n",
    "}\n",
    "\n",
    "df = pd.DataFrame(data)\n",
    "\n",
    "# Save it as a CSV file\n",
    "df.to_csv('vaccine_data.csv', index=False)\n",
    "\n",
    "\n",
    "# Set seed for reproducibility\n",
    "np.random.seed(42)\n",
    "\n",
    "# Read data\n",
    "df = pd.read_csv('vaccine_data.csv')\n",
    "\n",
    "# Calculate difference between Final and Initial Health Scores\n",
    "df['ScoreDifference'] = df['FinalHealthScore'] - df['InitialHealthScore']\n",
    "\n",
    "# Visualize the initial and final health scores\n",
    "plt.figure(figsize=(10, 6))\n",
    "sns.boxplot(data=df[['InitialHealthScore', 'FinalHealthScore']])\n",
    "plt.title('Initial vs Final Health Scores')\n",
    "plt.show()\n",
    "\n",
    "# Bootstrapping\n",
    "n_iterations = 1000\n",
    "bootstrap_means = []\n",
    "for _ in range(n_iterations):\n",
    "    bootstrap_sample = df['ScoreDifference'].sample(frac=1, replace=True)\n",
    "    bootstrap_means.append(bootstrap_sample.mean())\n",
    "\n",
    "# Calculate 95% confidence interval\n",
    "conf_interval = np.percentile(bootstrap_means, [2.5, 97.5])\n",
    "print(f\"95% confidence interval: {conf_interval}\")\n",
    "\n",
    "# Perform hypothesis test (Paired t-test or non-parametric test)\n",
    "from scipy.stats import ttest_rel\n",
    "stat, p_value = ttest_rel(df['FinalHealthScore'], df['InitialHealthScore'])\n",
    "print(f\"P-value: {p_value}\")\n"
   ]
  },
  {
   "cell_type": "markdown",
   "id": "3976d10a",
   "metadata": {},
   "source": [
    "We can confidently conclude that the vaccine has a statistically significant positive effect on patients' health scores. The data suggests that the vaccine is effective, leading to an improvement in health with a mean difference between 0.7 and 5.5 points."
   ]
  },
  {
   "cell_type": "markdown",
   "id": "32d124c1",
   "metadata": {},
   "source": [
    "## Summary"
   ]
  },
  {
   "cell_type": "markdown",
   "id": "afe629d4",
   "metadata": {},
   "source": [
    "### Summary of Interactions\n",
    "\n",
    "#### 1. **Vaccine Data Analysis Overview**  \n",
    "You are working on a vaccine data analysis assignment for AliTech, where you aim to determine whether the vaccine improves patients' health scores using bootstrapping and hypothesis testing. The dataset includes patients' initial and final health scores, with deliverables focused on:\n",
    "- Data visualization\n",
    "- Quantitative analysis\n",
    "- Null hypothesis testing (no effect)\n",
    "\n",
    "#### 2. **Steps to Create and Read CSV Files**  \n",
    "You were provided guidance on how to:\n",
    "- Create a CSV file containing the vaccine data manually or programmatically using Python and the `pandas` library.\n",
    "- Read the CSV file into Python for analysis using `pd.read_csv()`.\n",
    "\n",
    "#### 3. **Quantitative Analysis Explanation**  \n",
    "Quantitative analysis was explained as the process of analyzing measurable and numerical data, in this case, the difference between initial and final health scores. You will use statistical techniques like bootstrapping to generate a confidence interval and perform hypothesis testing to evaluate the vaccine's effectiveness.\n",
    "\n",
    "#### 4. **Statistical Results Interpretation**  \n",
    "You were presented with statistical results:\n",
    "- **95% Confidence Interval**: [0.7, 5.5]  \n",
    "   This indicates that the true mean difference in health scores lies between 0.7 and 5.5, suggesting a significant positive effect of the vaccine.\n",
    "  \n",
    "- **P-value**: 0.029  \n",
    "   Since the p-value is below 0.05, this suggests there is statistically significant evidence to reject the null hypothesis of \"no effect,\" meaning the vaccine is effective.\n",
    "\n",
    "#### 5. **Conclusion**  \n",
    "The conclusion was that based on both the confidence interval and the p-value, the vaccine has a statistically significant positive impact on health scores. There is strong evidence to suggest that the vaccine is effective at improving health.\n",
    "\n",
    "This summary of our interactions can be submitted as a record of your work on the assignment, outlining the key concepts and analyses discussed."
   ]
  },
  {
   "cell_type": "markdown",
   "id": "936eb428",
   "metadata": {},
   "source": [
    "## Link"
   ]
  },
  {
   "cell_type": "markdown",
   "id": "72efe301",
   "metadata": {},
   "source": [
    "https://chatgpt.com/share/66fae429-584c-8010-8916-243518c9260f"
   ]
  },
  {
   "cell_type": "markdown",
   "id": "bf0b9032",
   "metadata": {},
   "source": [
    "# Question 9"
   ]
  },
  {
   "cell_type": "markdown",
   "id": "ff1fd3fa",
   "metadata": {},
   "source": [
    "Yes"
   ]
  }
 ],
 "metadata": {
  "kernelspec": {
   "display_name": "Python 3 (ipykernel)",
   "language": "python",
   "name": "python3"
  },
  "language_info": {
   "codemirror_mode": {
    "name": "ipython",
    "version": 3
   },
   "file_extension": ".py",
   "mimetype": "text/x-python",
   "name": "python",
   "nbconvert_exporter": "python",
   "pygments_lexer": "ipython3",
   "version": "3.11.6"
  }
 },
 "nbformat": 4,
 "nbformat_minor": 5
}
