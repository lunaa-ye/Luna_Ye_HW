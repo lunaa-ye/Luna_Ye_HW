{
 "cells": [
  {
   "cell_type": "markdown",
   "id": "2e91611b",
   "metadata": {},
   "source": [
    "# Question 1"
   ]
  },
  {
   "cell_type": "markdown",
   "id": "0d243b21",
   "metadata": {},
   "source": [
    "A hypothesis is an idea that can be tested. A statement is testable when there's data related to it. The null hypothesis is the hypothesis to be tested, and the alternitive is anything else. "
   ]
  },
  {
   "cell_type": "markdown",
   "id": "611b4fe0",
   "metadata": {},
   "source": [
    "The null hypothesis is always a statement that there is no difference between the sample mean and the population mean."
   ]
  },
  {
   "cell_type": "markdown",
   "id": "5c0945c9",
   "metadata": {},
   "source": [
    "The alternative hypothesis is simply a claim that the null ypothesis is not true."
   ]
  },
  {
   "cell_type": "markdown",
   "id": "5848a463",
   "metadata": {},
   "source": [
    "Generally, the researcher is trying to reject the null hypothesis since the null hypothesis usually implies the status quo, and the alternitive hypothesis usually refers to the change or innovation."
   ]
  },
  {
   "cell_type": "markdown",
   "id": "7f377f46",
   "metadata": {},
   "source": [
    "# Question 2"
   ]
  },
  {
   "cell_type": "markdown",
   "id": "9c42f5a5",
   "metadata": {},
   "source": [
    "xi are the individual data points in the sample."
   ]
  },
  {
   "cell_type": "markdown",
   "id": "65ad7331",
   "metadata": {},
   "source": [
    "x̄ is the average (mean) of those individual data points, representing the sample."
   ]
  },
  {
   "cell_type": "markdown",
   "id": "48b15e72",
   "metadata": {},
   "source": [
    "𝜇 is the true average of the entire population (we would like to know the data and the analysis of the population, but we cannot measure it directly."
   ]
  },
  {
   "cell_type": "markdown",
   "id": "01665238",
   "metadata": {},
   "source": [
    "𝜇0 is the \"hypothesized\" population average, which we are testing to see if it is true."
   ]
  },
  {
   "cell_type": "markdown",
   "id": "7afe81a5",
   "metadata": {},
   "source": [
    "The sentence implies that we are attempting to draw conclusions about the average of entire group or population(𝜇) based on the sample (x̄), not just the smaller sample of data we obtained, when we perform a test (such as a hypothesis test). The result we get applies to the population as a whole, not just the sample."
   ]
  },
  {
   "cell_type": "markdown",
   "id": "92aba070",
   "metadata": {},
   "source": [
    "# Question 3"
   ]
  },
  {
   "cell_type": "markdown",
   "id": "59c3973c",
   "metadata": {},
   "source": [
    "Imagining a world where the null hypothesis is true helps to frame how we approach the p-value in hypothesis testing. We test the plausibility of the null hypothesis by calculating how often we should see similar or more extreme results if the null hypothesis is valid. "
   ]
  },
  {
   "cell_type": "markdown",
   "id": "4445e5d6",
   "metadata": {},
   "source": [
    "# Question 4"
   ]
  },
  {
   "cell_type": "markdown",
   "id": "ee2b2438",
   "metadata": {},
   "source": [
    "The null hypothesis: typically a statement that there's no effect, no difference, or that any observed differences are due to random chance."
   ]
  },
  {
   "cell_type": "markdown",
   "id": "a6ddb439",
   "metadata": {},
   "source": [
    "p-value: the the probability that a statistic is as or more extreme than the observed statistic if the null hypothesis is true. It tells us how probable it is that we could have gotten the results we did just by chance."
   ]
  },
  {
   "cell_type": "markdown",
   "id": "b72e1f67",
   "metadata": {},
   "source": [
    "A very small p-value implies that we have very strong evidence against the null hypothesis because it suggests that the observed data is unlikely to have occurred by random chance if the null hypothesis is true. A small p-value pushes us towards rejecting the null hypothesis in favor of an alternative explanation."
   ]
  },
  {
   "cell_type": "markdown",
   "id": "d3cdf643",
   "metadata": {},
   "source": [
    "# Question 5"
   ]
  },
  {
   "cell_type": "markdown",
   "id": "6802b1f2",
   "metadata": {},
   "source": [
    "Null Hypothesis (H0): There is no preference for head-tilting direction, meaning that couples tilt their heads to the right or left with equal probability, p=0.5."
   ]
  },
  {
   "cell_type": "markdown",
   "id": "1da2d028",
   "metadata": {},
   "source": [
    "Observed Data: In the actual study, 80 out of 124 couples (64.5%) tilted their heads to the right."
   ]
  },
  {
   "cell_type": "code",
   "execution_count": 1,
   "id": "51145f14",
   "metadata": {},
   "outputs": [
    {
     "name": "stdout",
     "output_type": "stream",
     "text": [
      "Simulated p-value: 0.0007\n"
     ]
    }
   ],
   "source": [
    "import numpy as np\n",
    "\n",
    "# Parameters\n",
    "n_couples = 124  # Number of couples in the study\n",
    "observed_right_tilts = 80  # Observed number of couples tilting to the right\n",
    "prob_right = 0.5  # Probability of tilting right under the null hypothesis\n",
    "n_simulations = 10000  # Number of simulations\n",
    "\n",
    "# Simulate: generate random samples of right tilts for 124 couples, repeated 10,000 times\n",
    "simulated_right_tilts = np.random.binomial(n_couples, prob_right, n_simulations)\n",
    "\n",
    "# Calculate the p-value: count how many times the simulated number of right tilts is >= 80\n",
    "p_value = np.sum(simulated_right_tilts >= observed_right_tilts) / n_simulations\n",
    "\n",
    "# Output the result\n",
    "print(f\"Simulated p-value: {p_value:.4f}\")\n"
   ]
  },
  {
   "cell_type": "markdown",
   "id": "379b7e6c",
   "metadata": {},
   "source": [
    "Based on the provided table, p-value = 0.0006 falls in the range 0.001 >= p, indicating very strong evidence against the null hypothesis."
   ]
  },
  {
   "cell_type": "markdown",
   "id": "1f2b06a4",
   "metadata": {},
   "source": [
    "# Question 6"
   ]
  },
  {
   "cell_type": "markdown",
   "id": "3786f3a5",
   "metadata": {},
   "source": [
    "No, a smaller p-value cannot definitively prove that the null hypothesis is false. A p-value simply measures how likely the observed data would occur if the null hypothesis were true. "
   ]
  },
  {
   "cell_type": "markdown",
   "id": "ecfeb199",
   "metadata": {},
   "source": [
    "Recarding Fido, a p-value cannot definitively prove innocence (null hypothesis is true) or guilt (null hypothesis is false). Even with a very low p-value, it only indicates strong evidence against Fido's innocence, but proof requires more than statistical significance."
   ]
  },
  {
   "cell_type": "markdown",
   "id": "7877989f",
   "metadata": {},
   "source": [
    "A p-value threshold (commonly 0.05 or lower) is used to make decisions, but no p-value—no matter how high or low—can provide absolute proof in either direction."
   ]
  },
  {
   "cell_type": "markdown",
   "id": "16588bda",
   "metadata": {},
   "source": [
    "# Question 7"
   ]
  },
  {
   "cell_type": "code",
   "execution_count": 2,
   "id": "7fe0daab",
   "metadata": {},
   "outputs": [],
   "source": [
    "import pandas as pd\n",
    "import numpy as np\n",
    "\n",
    "# Sample data to simulate HealthScoreChange\n",
    "data = {'PatientID': range(1, 11), \n",
    "        'HealthScoreBefore': [75, 82, 65, 90, 58, 74, 60, 80, 68, 85], \n",
    "        'HealthScoreAfter': [78, 85, 63, 92, 60, 76, 62, 83, 70, 87]}\n",
    "\n",
    "# Create the DataFrame\n",
    "patient_data = pd.DataFrame(data)\n",
    "\n",
    "# Calculate the change in health score\n",
    "patient_data['HealthScoreChange'] = patient_data['HealthScoreAfter'] - patient_data['HealthScoreBefore']\n"
   ]
  },
  {
   "cell_type": "code",
   "execution_count": 3,
   "id": "aae12ec7",
   "metadata": {},
   "outputs": [
    {
     "name": "stdout",
     "output_type": "stream",
     "text": [
      "   HealthScoreChange  > 0 ?\n",
      "0                  3   True\n",
      "1                  3   True\n",
      "2                 -2  False\n",
      "3                  2   True\n",
      "4                  2   True\n",
      "5                  2   True\n",
      "6                  2   True\n",
      "7                  3   True\n",
      "8                  2   True\n",
      "9                  2   True\n"
     ]
    }
   ],
   "source": [
    "\n",
    "print(pd.DataFrame({'HealthScoreChange': patient_data['HealthScoreChange'],\n",
    "                    '> 0 ?': patient_data['HealthScoreChange']>0}))\n"
   ]
  },
  {
   "cell_type": "code",
   "execution_count": 4,
   "id": "9eb1c363",
   "metadata": {},
   "outputs": [
    {
     "data": {
      "text/html": [
       "<div>\n",
       "<style scoped>\n",
       "    .dataframe tbody tr th:only-of-type {\n",
       "        vertical-align: middle;\n",
       "    }\n",
       "\n",
       "    .dataframe tbody tr th {\n",
       "        vertical-align: top;\n",
       "    }\n",
       "\n",
       "    .dataframe thead th {\n",
       "        text-align: right;\n",
       "    }\n",
       "</style>\n",
       "<table border=\"1\" class=\"dataframe\">\n",
       "  <thead>\n",
       "    <tr style=\"text-align: right;\">\n",
       "      <th></th>\n",
       "      <th>HealthScoreChange</th>\n",
       "      <th>&gt; 0 ?</th>\n",
       "    </tr>\n",
       "  </thead>\n",
       "  <tbody>\n",
       "    <tr>\n",
       "      <th>0</th>\n",
       "      <td>-3</td>\n",
       "      <td>False</td>\n",
       "    </tr>\n",
       "    <tr>\n",
       "      <th>1</th>\n",
       "      <td>-3</td>\n",
       "      <td>False</td>\n",
       "    </tr>\n",
       "    <tr>\n",
       "      <th>2</th>\n",
       "      <td>2</td>\n",
       "      <td>False</td>\n",
       "    </tr>\n",
       "    <tr>\n",
       "      <th>3</th>\n",
       "      <td>-2</td>\n",
       "      <td>False</td>\n",
       "    </tr>\n",
       "    <tr>\n",
       "      <th>4</th>\n",
       "      <td>2</td>\n",
       "      <td>True</td>\n",
       "    </tr>\n",
       "    <tr>\n",
       "      <th>5</th>\n",
       "      <td>2</td>\n",
       "      <td>True</td>\n",
       "    </tr>\n",
       "    <tr>\n",
       "      <th>6</th>\n",
       "      <td>-2</td>\n",
       "      <td>False</td>\n",
       "    </tr>\n",
       "    <tr>\n",
       "      <th>7</th>\n",
       "      <td>3</td>\n",
       "      <td>True</td>\n",
       "    </tr>\n",
       "    <tr>\n",
       "      <th>8</th>\n",
       "      <td>-2</td>\n",
       "      <td>False</td>\n",
       "    </tr>\n",
       "    <tr>\n",
       "      <th>9</th>\n",
       "      <td>2</td>\n",
       "      <td>True</td>\n",
       "    </tr>\n",
       "  </tbody>\n",
       "</table>\n",
       "</div>"
      ],
      "text/plain": [
       "   HealthScoreChange  > 0 ?\n",
       "0                 -3  False\n",
       "1                 -3  False\n",
       "2                  2  False\n",
       "3                 -2  False\n",
       "4                  2   True\n",
       "5                  2   True\n",
       "6                 -2  False\n",
       "7                  3   True\n",
       "8                 -2  False\n",
       "9                  2   True"
      ]
     },
     "execution_count": 4,
     "metadata": {},
     "output_type": "execute_result"
    }
   ],
   "source": [
    "random_difference_sign = np.random.choice([-1, 1], size=len(patient_data))\n",
    "pd.DataFrame({'HealthScoreChange': random_difference_sign*patient_data['HealthScoreChange'].abs(),\n",
    "              '> 0 ?': (random_difference_sign*patient_data['HealthScoreChange'])>0})\n"
   ]
  },
  {
   "cell_type": "code",
   "execution_count": 5,
   "id": "29cd7948",
   "metadata": {},
   "outputs": [],
   "source": [
    "np.random.seed(1)  # make simulation reproducible\n",
    "number_of_simulations = 10000  # experiment with this... what does this do?\n"
   ]
  },
  {
   "cell_type": "code",
   "execution_count": 6,
   "id": "314a8e95",
   "metadata": {},
   "outputs": [],
   "source": [
    "\n",
    "# Define the number of simulations\n",
    "number_of_simulations = 10000  # You can adjust this as needed\n",
    "\n",
    "# Initialize an array to store simulation results\n",
    "IncreaseProportionSimulations_underH0random = np.zeros(number_of_simulations)\n",
    "\n",
    "# Now you can run your loop\n",
    "for i in range(number_of_simulations):\n",
    "    random_improvement = np.random.choice([0, 1], size=len(patient_data), replace=True)\n",
    "    IncreaseProportionSimulations_underH0random[i] = random_improvement.mean()\n"
   ]
  },
  {
   "cell_type": "code",
   "execution_count": 7,
   "id": "93b47928",
   "metadata": {},
   "outputs": [],
   "source": [
    "observed_test_statistic = (patient_data.HealthScoreChange>0).mean()\n",
    "simulated_test_statistics = IncreaseProportionSimulations_underH0random\n"
   ]
  },
  {
   "cell_type": "code",
   "execution_count": 8,
   "id": "40cef356",
   "metadata": {},
   "outputs": [],
   "source": [
    "# Define the population parameter under the null hypothesis\n",
    "population_parameter_value_under_H0 = 0.5  # Assuming a null hypothesis of no effect\n"
   ]
  },
  {
   "cell_type": "code",
   "execution_count": 9,
   "id": "ef5567ee",
   "metadata": {},
   "outputs": [],
   "source": [
    "SimTestStats_as_or_more_extreme_than_ObsTestStat = \\\n",
    "    abs(simulated_test_statistics - population_parameter_value_under_H0) >= \\\n",
    "    abs(observed_test_statistic - population_parameter_value_under_H0) \n"
   ]
  },
  {
   "cell_type": "code",
   "execution_count": 10,
   "id": "05b0722f",
   "metadata": {},
   "outputs": [
    {
     "data": {
      "text/html": [
       "<div>\n",
       "<style scoped>\n",
       "    .dataframe tbody tr th:only-of-type {\n",
       "        vertical-align: middle;\n",
       "    }\n",
       "\n",
       "    .dataframe tbody tr th {\n",
       "        vertical-align: top;\n",
       "    }\n",
       "\n",
       "    .dataframe thead th {\n",
       "        text-align: right;\n",
       "    }\n",
       "</style>\n",
       "<table border=\"1\" class=\"dataframe\">\n",
       "  <thead>\n",
       "    <tr style=\"text-align: right;\">\n",
       "      <th></th>\n",
       "      <th>(Simulated) Test Statistic</th>\n",
       "      <th>&gt;= 0.9 ?</th>\n",
       "      <th>\"as or more extreme\"?</th>\n",
       "    </tr>\n",
       "  </thead>\n",
       "  <tbody>\n",
       "    <tr>\n",
       "      <th>0</th>\n",
       "      <td>0.7</td>\n",
       "      <td>&gt;= 0.9 ?</td>\n",
       "      <td>False</td>\n",
       "    </tr>\n",
       "    <tr>\n",
       "      <th>1</th>\n",
       "      <td>0.4</td>\n",
       "      <td>&gt;= 0.9 ?</td>\n",
       "      <td>False</td>\n",
       "    </tr>\n",
       "    <tr>\n",
       "      <th>2</th>\n",
       "      <td>0.3</td>\n",
       "      <td>&gt;= 0.9 ?</td>\n",
       "      <td>False</td>\n",
       "    </tr>\n",
       "    <tr>\n",
       "      <th>3</th>\n",
       "      <td>0.5</td>\n",
       "      <td>&gt;= 0.9 ?</td>\n",
       "      <td>False</td>\n",
       "    </tr>\n",
       "    <tr>\n",
       "      <th>4</th>\n",
       "      <td>0.8</td>\n",
       "      <td>&gt;= 0.9 ?</td>\n",
       "      <td>False</td>\n",
       "    </tr>\n",
       "    <tr>\n",
       "      <th>...</th>\n",
       "      <td>...</td>\n",
       "      <td>...</td>\n",
       "      <td>...</td>\n",
       "    </tr>\n",
       "    <tr>\n",
       "      <th>9995</th>\n",
       "      <td>0.4</td>\n",
       "      <td>&gt;= 0.9 ?</td>\n",
       "      <td>False</td>\n",
       "    </tr>\n",
       "    <tr>\n",
       "      <th>9996</th>\n",
       "      <td>0.1</td>\n",
       "      <td>&gt;= 0.9 ?</td>\n",
       "      <td>True</td>\n",
       "    </tr>\n",
       "    <tr>\n",
       "      <th>9997</th>\n",
       "      <td>0.4</td>\n",
       "      <td>&gt;= 0.9 ?</td>\n",
       "      <td>False</td>\n",
       "    </tr>\n",
       "    <tr>\n",
       "      <th>9998</th>\n",
       "      <td>0.6</td>\n",
       "      <td>&gt;= 0.9 ?</td>\n",
       "      <td>False</td>\n",
       "    </tr>\n",
       "    <tr>\n",
       "      <th>9999</th>\n",
       "      <td>0.4</td>\n",
       "      <td>&gt;= 0.9 ?</td>\n",
       "      <td>False</td>\n",
       "    </tr>\n",
       "  </tbody>\n",
       "</table>\n",
       "<p>10000 rows × 3 columns</p>\n",
       "</div>"
      ],
      "text/plain": [
       "      (Simulated) Test Statistic  >= 0.9 ?  \"as or more extreme\"?\n",
       "0                            0.7  >= 0.9 ?                  False\n",
       "1                            0.4  >= 0.9 ?                  False\n",
       "2                            0.3  >= 0.9 ?                  False\n",
       "3                            0.5  >= 0.9 ?                  False\n",
       "4                            0.8  >= 0.9 ?                  False\n",
       "...                          ...       ...                    ...\n",
       "9995                         0.4  >= 0.9 ?                  False\n",
       "9996                         0.1  >= 0.9 ?                   True\n",
       "9997                         0.4  >= 0.9 ?                  False\n",
       "9998                         0.6  >= 0.9 ?                  False\n",
       "9999                         0.4  >= 0.9 ?                  False\n",
       "\n",
       "[10000 rows x 3 columns]"
      ]
     },
     "execution_count": 10,
     "metadata": {},
     "output_type": "execute_result"
    }
   ],
   "source": [
    "pd.DataFrame({'(Simulated) Test Statistic': simulated_test_statistics,\n",
    "              '>= '+str(observed_test_statistic)+\" ?\": ['>= '+str(observed_test_statistic)+\" ?\"]*number_of_simulations, \n",
    "              '\"as or more extreme\"?': SimTestStats_as_or_more_extreme_than_ObsTestStat})\n"
   ]
  },
  {
   "cell_type": "code",
   "execution_count": 11,
   "id": "b8e3cb8c",
   "metadata": {},
   "outputs": [],
   "source": [
    "SimTestStats_as_or_more_extreme_than_ObsTestStat = \\\n",
    "    simulated_test_statistics >= observed_test_statistic\n"
   ]
  },
  {
   "cell_type": "markdown",
   "id": "7de3472e",
   "metadata": {},
   "source": [
    "- The two-sided test checks for deviations in both directions (positive or negative changes in health score).\n",
    "- The one-sided test focuses only on positive changes (vaccine improvement).\n",
    "- p-value comparison: A one-sided test is generally more sensitive and will often have a smaller p-value than a two-sided test when the observed effect is in the expected direction, as you're concentrating all your statistical power on one hypothesis."
   ]
  },
  {
   "cell_type": "markdown",
   "id": "85b389e5",
   "metadata": {},
   "source": [
    "### Summary "
   ]
  },
  {
   "cell_type": "markdown",
   "id": "3d5416b8",
   "metadata": {},
   "source": [
    "Sure! Here’s a summary of our exchanges regarding the code adjustments for your vaccine data analysis assignment:\n",
    "\n",
    "---\n",
    "\n",
    "### Summary of Exchanges:\n",
    "\n",
    "1. **Initial Inquiry**:\n",
    "   - You introduced the topic of one-sided (one-tailed) tests versus two-sided (two-tailed) tests, asking for adjustments in code from the \"Demo II of Week 5 TUT\" to compute a p-value for a one-sided hypothesis test.\n",
    "\n",
    "2. **Code Breakdown**:\n",
    "   - I provided a breakdown of the code you shared, explaining the steps involved in calculating health score changes, simulating random improvements, and how the observed test statistic is computed. \n",
    "   - I clarified concepts like how the proportion of random improvements is calculated, the significance of the number of simulations, and the identification of extreme test statistics.\n",
    "\n",
    "3. **Modifications for One-Sided Test**:\n",
    "   - I guided you on how to modify the condition that checks for extreme test statistics to focus only on improvements (greater than or equal to the observed test statistic), suitable for a one-sided test.\n",
    "\n",
    "4. **Error Resolution**:\n",
    "   - You encountered a `NameError` related to the `patient_data` variable, and I suggested creating a sample DataFrame or loading your data to define it.\n",
    "   - After defining `patient_data`, you faced another `NameError` regarding the `IncreaseProportionSimulations_underH0random` variable. I recommended initializing this variable as a NumPy array before using it in the simulation loop.\n",
    "   - A subsequent `NameError` occurred due to the absence of the `population_parameter_value_under_H0` variable. I advised defining it to represent the expected proportion under the null hypothesis (set to 0.5).\n",
    "\n",
    "5. **Complete Code Example**:\n",
    "   - Finally, I provided a complete example of the modified code that includes definitions for all necessary variables, simulation loops, and calculations for both observed and simulated test statistics, ensuring everything is structured correctly.\n",
    "\n",
    "---\n",
    "\n",
    "Feel free to modify any part of this summary to better fit your assignment requirements! If you need any additional information or clarifications, just let me know!"
   ]
  },
  {
   "cell_type": "markdown",
   "id": "71de3824",
   "metadata": {},
   "source": [
    "### Link"
   ]
  },
  {
   "cell_type": "markdown",
   "id": "ffb200d2",
   "metadata": {},
   "source": [
    "https://chatgpt.com/share/67094c9b-29ec-8010-af8a-592e11d82360"
   ]
  },
  {
   "cell_type": "markdown",
   "id": "f8c229f1",
   "metadata": {},
   "source": [
    "# Question 8"
   ]
  },
  {
   "cell_type": "markdown",
   "id": "30c3e6f4",
   "metadata": {},
   "source": [
    "## Problem Introduction"
   ]
  },
  {
   "cell_type": "markdown",
   "id": "6766317e",
   "metadata": {},
   "source": [
    "Ronald Fisher and Dr. Muriel Bristol's initial experiment investigated if the sequence in which tea and milk were poured altered the flavour. We repeat the experiment with STA130 students in this analysis to see if they can tell which was poured first: milk or tea. Of the 80 students in our survey, 49 correctly identified the pouring sequence. To determine whether these results may have been the result of random guesswork or if they clearly show a preference, we will run a hypothesis test."
   ]
  },
  {
   "cell_type": "markdown",
   "id": "c287ba65",
   "metadata": {},
   "source": [
    "### Null hypothesis"
   ]
  },
  {
   "cell_type": "markdown",
   "id": "8a651a8d",
   "metadata": {},
   "source": [
    "$H_0$: p = 0.5\n",
    "<br>\n",
    "<br> Formal: The null hypothesis is that the proportion of students correctly identifying the order of pouring is equal to the probability of guessing correctly by chance (i.e., 50%).\n",
    "<br>\n",
    "<br> Informal: We believe that the students do not have any special ability to distinguish the order of pouring tea and milk and are essentially guessing."
   ]
  },
  {
   "cell_type": "markdown",
   "id": "781d8b74",
   "metadata": {},
   "source": [
    "### Alternative hypothesis"
   ]
  },
  {
   "cell_type": "markdown",
   "id": "9b829e26",
   "metadata": {},
   "source": [
    "Formal: $H_A$: p ≠ 0.5\n",
    "<br>\n",
    "<br> This suggests that the proportion of students correctly identifying the order is different from 0.5, which means that they may have some ability to discern the order."
   ]
  },
  {
   "cell_type": "markdown",
   "id": "1ce0ffb8",
   "metadata": {},
   "source": [
    "## Quantitative Analysis"
   ]
  },
  {
   "cell_type": "markdown",
   "id": "b53ed9c1",
   "metadata": {},
   "source": [
    "### Observed proportion"
   ]
  },
  {
   "cell_type": "markdown",
   "id": "820d7b14",
   "metadata": {},
   "source": [
    "p = 49 / 80 = 0.6125"
   ]
  },
  {
   "cell_type": "markdown",
   "id": "cc820feb",
   "metadata": {},
   "source": [
    "### p-value "
   ]
  },
  {
   "cell_type": "markdown",
   "id": "fc330cfd",
   "metadata": {},
   "source": [
    "The p-value is the proportion of simulated samples where the proportion of correct guesses is as extreme or more extreme than the observed proportion of 0.6125."
   ]
  },
  {
   "cell_type": "markdown",
   "id": "1461b20d",
   "metadata": {},
   "source": [
    "p-value = (Number of simulated proportions ≥ observed proportion) / Total number of simulations "
   ]
  },
  {
   "cell_type": "code",
   "execution_count": 12,
   "id": "41c95db8",
   "metadata": {},
   "outputs": [
    {
     "data": {
      "image/png": "[encoded data removed]",
      "text/plain": [
       "<Figure size 640x480 with 1 Axes>"
      ]
     },
     "metadata": {},
     "output_type": "display_data"
    },
    {
     "data": {
      "text/plain": [
       "0.0294"
      ]
     },
     "execution_count": 12,
     "metadata": {},
     "output_type": "execute_result"
    }
   ],
   "source": [
    "import numpy as np\n",
    "import matplotlib.pyplot as plt\n",
    "\n",
    "# Set the seed for reproducibility\n",
    "np.random.seed(42)\n",
    "\n",
    "# Parameters\n",
    "n_students = 80\n",
    "n_correct = 49\n",
    "observed_proportion = n_correct / n_students\n",
    "n_simulations = 10000\n",
    "null_proportion = 0.5\n",
    "\n",
    "# Simulate the null hypothesis\n",
    "simulated_proportions = np.random.binomial(n_students, null_proportion, n_simulations) / n_students\n",
    "\n",
    "# Calculate p-value\n",
    "p_value = np.mean(simulated_proportions >= observed_proportion)\n",
    "\n",
    "# Plotting the distribution of simulated proportions\n",
    "plt.hist(simulated_proportions, bins=30, edgecolor='black', alpha=0.7)\n",
    "plt.axvline(observed_proportion, color='red', linestyle='dashed', linewidth=1)\n",
    "plt.title('Distribution of Simulated Proportions Under $H_0$')\n",
    "plt.xlabel('Proportion Correct')\n",
    "plt.ylabel('Frequency')\n",
    "plt.show()\n",
    "\n",
    "p_value"
   ]
  },
  {
   "cell_type": "markdown",
   "id": "55c681ea",
   "metadata": {},
   "source": [
    "## Conclusion"
   ]
  },
  {
   "cell_type": "markdown",
   "id": "33e53921",
   "metadata": {},
   "source": [
    "The p-value falls on the range [0.01, 0.05], which suggests moderate evidence against the null hypothesis. \n",
    "\n",
    "If we set the significance level to be 0.05, the p-value is below the significance level. We reject the null hypothesis in this case, suggesting that students have a statistically significant ability to identify the order of pouring tea and milk."
   ]
  },
  {
   "cell_type": "code",
   "execution_count": null,
   "id": "b55ecc6b",
   "metadata": {},
   "outputs": [],
   "source": []
  },
  {
   "cell_type": "markdown",
   "id": "5f422a5a",
   "metadata": {},
   "source": [
    "### Summary"
   ]
  },
  {
   "cell_type": "markdown",
   "id": "17dd20be",
   "metadata": {},
   "source": [
    "Here’s a summary of our exchanges regarding the Fisher's Tea Experiment and related analysis:\n",
    "\n",
    "---\n",
    "\n",
    "### Fisher's Tea Experiment: Statistical Analysis Summary\n",
    "\n",
    "1. **Problem Introduction:**\n",
    "   - We discussed a modern replication of Fisher’s famous tea experiment, involving 80 STA130 students who were asked to discern whether tea or milk was poured first. Of the 80 students, 49 correctly identified the order of pouring. The objective was to determine whether this result could have occurred by random guessing or if students had some ability to discern the order.\n",
    "   \n",
    "2. **Null Hypothesis ( \\( H_0 \\) ) and Alternative Hypothesis ( \\( H_A \\) ):**\n",
    "   - **\\( H_0 \\)**: The proportion of students who correctly identify the order of pouring is 0.5 (indicating random guessing).\n",
    "   - **\\( H_A \\)**: The proportion of students correctly identifying the order differs from 0.5, suggesting that students may have an ability to tell the difference.\n",
    "   \n",
    "   I provided both formal and informal interpretations of the null hypothesis and alternative hypothesis, along with how we frame the hypotheses based on this experiment.\n",
    "\n",
    "3. **Quantitative Analysis:**\n",
    "   - We used a **simulation approach** to generate a sampling distribution under the null hypothesis, assuming a 50% chance of correct guessing. This involved running 10,000 simulations where each simulated sample was based on 80 students.\n",
    "   - The **observed test statistic** was the proportion of correct guesses, \\( \\hat{p} = 0.6125 \\), based on 49 out of 80 students answering correctly.\n",
    "   \n",
    "4. **P-value Calculation Explanation:**\n",
    "   - I explained that the p-value represents the probability of obtaining a result as extreme as the observed proportion (0.6125) under the null hypothesis. The p-value is calculated by determining how many simulated proportions from the 10,000 trials are greater than or equal to the observed value of 0.6125, divided by the total number of simulations.\n",
    "   - I provided the formula for the p-value and explained its significance in hypothesis testing: a small p-value suggests that the observed result is unlikely under the null hypothesis, providing evidence against it.\n",
    "\n",
    "5. **Code Implementation:**\n",
    "   - I shared Python code to simulate the experiment using `np.random.binomial` to simulate 10,000 samples of 80 observations, calculate the proportion of correct guesses, and compute the p-value.\n",
    "   - I explained the use of `np.random.seed()` for reproducibility, provided a histogram to visualize the simulated proportions, and marked the observed proportion for comparison.\n",
    "\n",
    "6. **Interpretation of Results:**\n",
    "   - The interpretation of the p-value helps in determining whether to reject or fail to reject the null hypothesis. If the p-value is less than a significance level of 0.05, we conclude that the students’ ability to discern the order of pouring is statistically significant.\n",
    "\n",
    "---\n",
    "\n",
    "This summary encapsulates the key points we discussed, covering the hypothesis test, p-value calculation, and simulation methodology. Let me know if you need any further clarification or adjustments before submission!"
   ]
  },
  {
   "cell_type": "markdown",
   "id": "05d0a8b0",
   "metadata": {},
   "source": [
    "### Link"
   ]
  },
  {
   "cell_type": "markdown",
   "id": "5e7143fc",
   "metadata": {},
   "source": [
    "https://chatgpt.com/share/670963fe-7bb0-8010-a927-c0ff762b980f"
   ]
  },
  {
   "cell_type": "markdown",
   "id": "cc111ef7",
   "metadata": {},
   "source": [
    "# Question 9"
   ]
  },
  {
   "cell_type": "markdown",
   "id": "24060ff2",
   "metadata": {},
   "source": [
    "Yes"
   ]
  }
 ],
 "metadata": {
  "kernelspec": {
   "display_name": "Python 3 (ipykernel)",
   "language": "python",
   "name": "python3"
  },
  "language_info": {
   "codemirror_mode": {
    "name": "ipython",
    "version": 3
   },
   "file_extension": ".py",
   "mimetype": "text/x-python",
   "name": "python",
   "nbconvert_exporter": "python",
   "pygments_lexer": "ipython3",
   "version": "3.11.6"
  }
 },
 "nbformat": 4,
 "nbformat_minor": 5
}
